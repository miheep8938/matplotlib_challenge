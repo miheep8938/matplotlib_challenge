{
 "cells": [
  {
   "cell_type": "code",
   "execution_count": 63,
   "metadata": {},
   "outputs": [],
   "source": [
    "%matplotlib inline\n",
    "from matplotlib import style\n",
    "style.use('fivethirtyeight')\n",
    "import matplotlib.pyplot as plt"
   ]
  },
  {
   "cell_type": "code",
   "execution_count": 64,
   "metadata": {},
   "outputs": [],
   "source": [
    "import numpy as np\n",
    "import pandas as pd\n",
    "import datetime as dt"
   ]
  },
  {
   "cell_type": "markdown",
   "metadata": {},
   "source": [
    "## Reflect Tables into SQLALchemy ORM"
   ]
  },
  {
   "cell_type": "code",
   "execution_count": 65,
   "metadata": {},
   "outputs": [],
   "source": [
    "# Python SQL toolkit and Object Relational Mapper\n",
    "import sqlalchemy\n",
    "from sqlalchemy.ext.automap import automap_base\n",
    "from sqlalchemy.orm import Session\n",
    "from sqlalchemy import create_engine, func"
   ]
  },
  {
   "cell_type": "code",
   "execution_count": 66,
   "metadata": {},
   "outputs": [],
   "source": [
    "# create engine to hawaii.sqlite\n",
    "database_path = \"Resources/hawaii.sqlite\"\n",
    "engine = create_engine(f\"sqlite:///{database_path}\")"
   ]
  },
  {
   "cell_type": "code",
   "execution_count": 67,
   "metadata": {},
   "outputs": [],
   "source": [
    "# reflect an existing database into a new model\n",
    "Base = automap_base()\n",
    "# reflect the tables\n",
    "Base.prepare(engine, reflect=True)"
   ]
  },
  {
   "cell_type": "code",
   "execution_count": 68,
   "metadata": {},
   "outputs": [
    {
     "data": {
      "text/plain": [
       "['measurement', 'station']"
      ]
     },
     "execution_count": 68,
     "metadata": {},
     "output_type": "execute_result"
    }
   ],
   "source": [
    "# View all of the classes that automap found\n",
    "Base.classes.keys()"
   ]
  },
  {
   "cell_type": "code",
   "execution_count": 69,
   "metadata": {},
   "outputs": [],
   "source": [
    "# Save references to each table\n",
    "Measurement = Base.classes.measurement\n",
    "Station = Base.classes.station"
   ]
  },
  {
   "cell_type": "code",
   "execution_count": 70,
   "metadata": {},
   "outputs": [],
   "source": [
    "# Create our session (link) from Python to the DB\n",
    "session = Session(engine)"
   ]
  },
  {
   "cell_type": "markdown",
   "metadata": {},
   "source": [
    "## Bonus Challenge Assignment: Temperature Analysis II"
   ]
  },
  {
   "cell_type": "code",
   "execution_count": 71,
   "metadata": {},
   "outputs": [
    {
     "name": "stdout",
     "output_type": "stream",
     "text": [
      "[(62.0, 69.57142857142857, 74.0)]\n"
     ]
    }
   ],
   "source": [
    "# This function called `calc_temps` will accept start date and end date in the format '%Y-%m-%d' \n",
    "# and return the minimum, maximum, and average temperatures for that range of dates\n",
    "def calc_temps(start_date, end_date):\n",
    "    \"\"\"TMIN, TAVG, and TMAX for a list of dates.\n",
    "    \n",
    "    Args:\n",
    "        start_date (string): A date string in the format %Y-%m-%d\n",
    "        end_date (string): A date string in the format %Y-%m-%d\n",
    "        \n",
    "    Returns:\n",
    "        TMIN, TAVE, and TMAX\n",
    "    \"\"\"\n",
    "    \n",
    "    return session.query(func.min(Measurement.tobs), func.avg(Measurement.tobs), func.max(Measurement.tobs)).\\\n",
    "        filter(Measurement.date >= start_date).filter(Measurement.date <= end_date).all()\n",
    "\n",
    "# For example\n",
    "print(calc_temps('2012-02-28', '2012-03-05'))"
   ]
  },
  {
   "cell_type": "code",
   "execution_count": 72,
   "metadata": {
    "scrolled": true
   },
   "outputs": [
    {
     "data": {
      "text/plain": [
       "[(58.0, 74.59058295964125, 87.0)]"
      ]
     },
     "execution_count": 72,
     "metadata": {},
     "output_type": "execute_result"
    }
   ],
   "source": [
    "# Use the function `calc_temps` to calculate the tmin, tavg, and tmax \n",
    "# for a year in the data set\n",
    "min_avg_max = calc_temps('2016-08-23', '2017-08-23')\n",
    "min_avg_max"
   ]
  },
  {
   "cell_type": "code",
   "execution_count": 73,
   "metadata": {},
   "outputs": [],
   "source": [
    "one_year_data = calc_temps('2016-08-23','2017-08-23') \n",
    "tmin = one_year_data[0][0]\n",
    "tmax = one_year_data[0][1]\n",
    "tavg = one_year_data[0][2]\n",
    "error = tmax - tmin \n"
   ]
  },
  {
   "cell_type": "code",
   "execution_count": 74,
   "metadata": {},
   "outputs": [
    {
     "data": {
      "image/png": "[encoded data removed]",
      "text/plain": [
       "<Figure size 432x864 with 1 Axes>"
      ]
     },
     "metadata": {},
     "output_type": "display_data"
    },
    {
     "data": {
      "text/plain": [
       "<Figure size 432x288 with 0 Axes>"
      ]
     },
     "metadata": {},
     "output_type": "display_data"
    }
   ],
   "source": [
    "fig, ax = plt.subplots(figsize=(6,12))\n",
    "bar = ax.bar(xpos, tavg, yerr=error, alpha=0.5, )\n",
    "ax.set(xticks=range(xpos), xticklabels=\"a\", title=\"Trip Avg Temp\", ylabel=\"Average Temperature (F)\")\n",
    "ax.margins(.2, .2)\n",
    "plt.ylim(0,110)\n",
    "plt.savefig('Trip Avg Temperature Bar Graph.png')\n",
    "plt.show()\n",
    "plt.tight_layout()"
   ]
  },
  {
   "cell_type": "code",
   "execution_count": 75,
   "metadata": {
    "scrolled": false
   },
   "outputs": [],
   "source": [
    "# As a practice, tried to query, \n",
    "#Set each variable for start and end date \n",
    "# start = '2016-08-23'\n",
    "# end = '2017-08-23'\n",
    "\n",
    "# #Query \n",
    "# year_query = session.query(Measurement.date, Measurement.tobs).\\\n",
    "#         filter(Measurement.date >= start).filter(Measurement.date <= end).all()\n",
    "\n",
    "#Convert the results into DataFrame\n",
    "# year_temperature = pd.DataFrame(year_query, columns=['date', 'tobs'])\n",
    "\n",
    "# Check to see if the min, max and avg temp are correct.\n",
    "# year_temperature.describe()\n",
    "\n",
    "#tmax = year_temperature['tobs'].max()\n",
    "#tmin = year_temperature['tobs'].min()\n",
    "#error = tmax - tmin\n",
    "\n",
    "# Plot the results from your previous query as a bar chart. \n",
    "# Use \"Trip Avg Temp\" as your Title\n",
    "# Use the average temperature for bar height (y value)\n",
    "# Use the peak-to-peak (tmax-tmin) value as the y error bar (yerr) \n",
    "#Calculate the error \n",
    "\n",
    "# avg_temp = year_temperature.mean()\n",
    "# error = tmax - tmin \n",
    "\n",
    "# avg_temp.plot(legend=False,kind=\"bar\",color=\"orange\",yerr=error, width=0.1, figsize=(12,6))\n",
    "# plt.title(\"Trip Avg Temperature\")\n",
    "# plt.ylabel(\"Temperature(°F)\")\n",
    "# plt.ylim(0,110)\n",
    "# plt.savefig('Trip Avg Temperature Bar Graph.png')\n",
    "# plt.show()"
   ]
  },
  {
   "cell_type": "markdown",
   "metadata": {},
   "source": [
    "### Daily Rainfall Average"
   ]
  },
  {
   "cell_type": "code",
   "execution_count": 76,
   "metadata": {},
   "outputs": [
    {
     "name": "stdout",
     "output_type": "stream",
     "text": [
      "Location: MANOA LYON ARBO 785.2, HI US\n",
      " Station: USC00516128\n",
      " Rainfall: 0.36\n",
      " Elevation: 152.4\n",
      " Latitude: 21.3331\n",
      " Longitude: -157.8025\n",
      "\n",
      "Location: KUALOA RANCH HEADQUARTERS 886.9, HI US\n",
      " Station: USC00514830\n",
      " Rainfall: 0.22\n",
      " Elevation: 7.0\n",
      " Latitude: 21.5213\n",
      " Longitude: -157.8374\n",
      "\n",
      "Location: WAIHEE 837.5, HI US\n",
      " Station: USC00519281\n",
      " Rainfall: 0.06\n",
      " Elevation: 32.9\n",
      " Latitude: 21.45167\n",
      " Longitude: -157.84888999999998\n",
      "\n",
      "Location: WAIKIKI 717.2, HI US\n",
      " Station: USC00519397\n",
      " Rainfall: 0.04\n",
      " Elevation: 3.0\n",
      " Latitude: 21.2716\n",
      " Longitude: -157.8168\n",
      "\n",
      "Location: WAIMANALO EXPERIMENTAL FARM, HI US\n",
      " Station: USC00519523\n",
      " Rainfall: 0.0\n",
      " Elevation: 19.5\n",
      " Latitude: 21.33556\n",
      " Longitude: -157.71139\n",
      "\n"
     ]
    }
   ],
   "source": [
    "# Calculate the total amount of rainfall per weather station for your trip dates using the previous year's \n",
    "# matching dates.\n",
    "# Sort this in descending order by precipitation amount and list the station, name, latitude, longitude, and elevation\n",
    "\n",
    "trip_start_date = '2017-08-01'\n",
    "trip_end_date = '2017-08-07'\n",
    "\n",
    "query_results = session.query(Station.station, func.sum(Measurement.prcp), Station.name, Station.elevation,Station.latitude,Station.longitude).\\\n",
    "    filter(Measurement.station == Station.station).filter(Measurement.date >= trip_start_date).filter(Measurement.date <= trip_end_date).\\\n",
    "    group_by(Station.station).order_by(func.sum(Measurement.prcp).desc())\n",
    "\n",
    "query_results.all()\n",
    "\n",
    "for x in query_results:\n",
    "    print(f'Location: {x[2]}\\n Station: {x[0]}\\n Rainfall: {x[1]}\\n Elevation: {x[3]}\\n Latitude: {x[4]}\\n Longitude: {x[5]}\\n')\n",
    "    \n",
    "    "
   ]
  },
  {
   "cell_type": "code",
   "execution_count": 77,
   "metadata": {},
   "outputs": [
    {
     "data": {
      "text/plain": [
       "[(62.0, 69.15384615384616, 77.0)]"
      ]
     },
     "execution_count": 77,
     "metadata": {},
     "output_type": "execute_result"
    }
   ],
   "source": [
    "# Use this function to calculate the daily normals \n",
    "# (i.e. the averages for tmin, tmax, and tavg for all historic data matching a specific month and day)\n",
    "\n",
    "def daily_normals(date):\n",
    "    \"\"\"Daily Normals.\n",
    "    \n",
    "    Args:\n",
    "        date (str): A date string in the format '%m-%d'\n",
    "        \n",
    "    Returns:\n",
    "        A list of tuples containing the daily normals, tmin, tavg, and tmax\n",
    "    \n",
    "    \"\"\"\n",
    "    \n",
    "    sel = [func.min(Measurement.tobs), func.avg(Measurement.tobs), func.max(Measurement.tobs)]\n",
    "    return session.query(*sel).filter(func.strftime(\"%m-%d\", Measurement.date) == date).all()\n",
    "\n",
    "# For example\n",
    "daily_normals(\"01-01\")"
   ]
  },
  {
   "cell_type": "code",
   "execution_count": 78,
   "metadata": {},
   "outputs": [
    {
     "data": {
      "text/plain": [
       "[Timestamp('2017-08-01 00:00:00', freq='D'),\n",
       " Timestamp('2017-08-02 00:00:00', freq='D'),\n",
       " Timestamp('2017-08-03 00:00:00', freq='D'),\n",
       " Timestamp('2017-08-04 00:00:00', freq='D'),\n",
       " Timestamp('2017-08-05 00:00:00', freq='D'),\n",
       " Timestamp('2017-08-06 00:00:00', freq='D'),\n",
       " Timestamp('2017-08-07 00:00:00', freq='D')]"
      ]
     },
     "execution_count": 78,
     "metadata": {},
     "output_type": "execute_result"
    }
   ],
   "source": [
    "# calculate the daily normals for your trip\n",
    "# push each tuple of calculations into a list called `normals`\n",
    "\n",
    "# Set the start and end date of the trip\n",
    "start_date = '2017-08-01'\n",
    "end_date = '2017-08-07'\n",
    "\n",
    "one_year_data = calc_temps('2017-08-01','2017-08-01') \n",
    "# tmin = one_year_data[0][0]\n",
    "# tmax = one_year_data[0][1]\n",
    "# tavg = one_year_data[0][2]\n",
    "# Use the start and end date to create a range of dates\n",
    "ranged_dates_df = pd.date_range(start_date,end_date).tolist()\n",
    "ranged_dates_df"
   ]
  },
  {
   "cell_type": "code",
   "execution_count": 79,
   "metadata": {},
   "outputs": [],
   "source": [
    "normals = []\n",
    "delta = dt.datetime.strptime(end_date, \"%Y-%m-%d\") - dt.datetime.strptime(start_date, \"%Y-%m-%d\")\n",
    "dates = []\n",
    "for i in range(delta.days+1):\n",
    "    date = dt.datetime.strptime(start_date, \"%Y-%m-%d\") + dt.timedelta(days=i)\n",
    "    dates.append(dt.datetime.strftime(date, \"%Y-%m-%d\"))\n",
    "    tmin,tavg,tmax = np.ravel(daily_normals(dt.datetime.strftime(date, \"%m-%d\")))\n",
    "    normals.append((tmin,tavg,tmax))"
   ]
  },
  {
   "cell_type": "code",
   "execution_count": 80,
   "metadata": {},
   "outputs": [],
   "source": [
    "# Load the previous query results into a Pandas DataFrame and add the `trip_dates` range as the `date` index\n",
    "normals_df = pd.DataFrame(normals, columns=['tmin', 'tavg', 'tmax'], index=dates)  "
   ]
  },
  {
   "cell_type": "code",
   "execution_count": 81,
   "metadata": {},
   "outputs": [],
   "source": [
    "# # push each tuple of calculations into a list called `normals`\n",
    "# # My trip dates again are: '02-22' Through'03-01'\n",
    "# trip_dates = ['08-01','08-02','08-03','08-04','08-05','08-06','08-07']\n",
    "\n",
    "# # push each tuple of calculations into a list called `normals`\n",
    "# # start with a blank list named normals\n",
    "# normals =[]\n",
    "\n",
    "# #Set the start and end date of the trip\n",
    "# # Use 'date' function to return the date without a time for our vacation start\n",
    "# start_vacation = dt.date(2017,8,1)\n",
    "# # Store the number of days of the vacation\n",
    "# numdays = 7"
   ]
  },
  {
   "cell_type": "code",
   "execution_count": 82,
   "metadata": {},
   "outputs": [
    {
     "data": {
      "image/png": "[encoded data removed]",
      "text/plain": [
       "<Figure size 720x432 with 1 Axes>"
      ]
     },
     "metadata": {},
     "output_type": "display_data"
    }
   ],
   "source": [
    "# Strip off the year and save a list of strings in the format %m-%d\n",
    "# Plot the daily normals as an area plot with `stacked=False`\n",
    "fig, ax = plt.subplots(figsize=(10,6))\n",
    "normals_DF.plot.area(ax=ax, stacked=False, alpha=0.4)\n",
    "plt.xticks(range(len(dates)), dates, rotation=45, ha='right')\n",
    "plt.xlim((0,len(dates)-1))\n",
    "plt.ylabel(\"Temperature (F)\")\n",
    "plt.title(f\"Daily Temperature on Trip Dates\", fontsize=20, y=1)\n",
    "plt.tight_layout()\n",
    "plt.savefig('Daily Temperature on Trip Date')"
   ]
  },
  {
   "cell_type": "markdown",
   "metadata": {},
   "source": [
    "## Close Session"
   ]
  },
  {
   "cell_type": "code",
   "execution_count": 22,
   "metadata": {},
   "outputs": [],
   "source": [
    "session.close()"
   ]
  }
 ],
 "metadata": {
  "kernelspec": {
   "display_name": "Python 3",
   "language": "python",
   "name": "python3"
  },
  "language_info": {
   "codemirror_mode": {
    "name": "ipython",
    "version": 3
   },
   "file_extension": ".py",
   "mimetype": "text/x-python",
   "name": "python",
   "nbconvert_exporter": "python",
   "pygments_lexer": "ipython3",
   "version": "3.8.5"
  }
 },
 "nbformat": 4,
 "nbformat_minor": 4
}
